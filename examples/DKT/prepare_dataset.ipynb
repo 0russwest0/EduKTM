{
 "cells": [
  {
   "cell_type": "code",
   "execution_count": 1,
   "metadata": {
    "pycharm": {
     "name": "#%%\n"
    }
   },
   "outputs": [
    {
     "name": "stderr",
     "output_type": "stream",
     "text": [
      "downloader, INFO ../../data/2009_skill_builder_data_corrected.zip already exists. Send resume request after 9084422 bytes\n",
      "downloader, INFO http://base.ustc.edu.cn/data/ASSISTment/2009_skill_builder_data_corrected.zip is saved as ../../data/2009_skill_builder_data_corrected.zip\n",
      "downloader, WARNING Range not support. Redownloading...\n"
     ]
    },
    {
     "name": "stdout",
     "output_type": "stream",
     "text": [
      "Downloading 100.00% : 9084928 | 9084422"
     ]
    },
    {
     "data": {
      "text/plain": [
       "'../../data'"
      ]
     },
     "execution_count": 1,
     "metadata": {},
     "output_type": "execute_result"
    }
   ],
   "source": [
    "from EduData import get_data\n",
    "\n",
    "get_data(\"assistment-2009-2010-skill\", \"../../data\")"
   ]
  },
  {
   "cell_type": "code",
   "execution_count": 2,
   "metadata": {},
   "outputs": [],
   "source": [
    "import random\n",
    "import pandas as pd\n",
    "import tqdm\n",
    "import numpy as np\n",
    "\n",
    "data = pd.read_csv(\n",
    "    '../../data/2009_skill_builder_data_corrected/skill_builder_data_corrected.csv',\n",
    "    usecols=['order_id', 'user_id', 'sequence_id', 'problem_id', 'correct']\n",
    ")"
   ]
  },
  {
   "cell_type": "code",
   "execution_count": 3,
   "metadata": {},
   "outputs": [
    {
     "name": "stdout",
     "output_type": "stream",
     "text": [
      "number of questions: 26688\n"
     ]
    }
   ],
   "source": [
    "raw_question = data.problem_id.unique().tolist()\n",
    "\n",
    "def question_id_transfer(question):\n",
    "    id2question = [p for p in raw_question]\n",
    "    question2id = {}\n",
    "    for i, p in enumerate(raw_question):\n",
    "        question2id[p] = i\n",
    "\n",
    "    return id2question, question2id\n",
    "\n",
    "\n",
    "id2question, question2id = question_id_transfer(raw_question)\n",
    "\n",
    "print(\"number of questions: %d\" % len(raw_question))"
   ]
  },
  {
   "cell_type": "code",
   "execution_count": 4,
   "metadata": {},
   "outputs": [
    {
     "name": "stderr",
     "output_type": "stream",
     "text": [
      "parse student sequence:\t: 100%|██████████| 4217/4217 [00:46<00:00, 89.76it/s] \n"
     ]
    }
   ],
   "source": [
    "def parse_all_seq(students):\n",
    "    all_sequences = []\n",
    "    for student_id in tqdm.tqdm(students, 'parse student sequence:\\t'):\n",
    "        student_sequence = parse_student_seq(data[data.user_id == student_id])\n",
    "        all_sequences.extend(student_sequence)\n",
    "    return all_sequences\n",
    "\n",
    "\n",
    "def parse_student_seq(student):\n",
    "    student = student.drop_duplicates(subset='order_id')\n",
    "    sequence_ids = student.sequence_id.unique()\n",
    "    sequences = []\n",
    "    for seq_id in sequence_ids:\n",
    "        seq = student[student.sequence_id == seq_id].sort_values('order_id')\n",
    "        questions = [question2id[id] for id in seq.problem_id.tolist()]\n",
    "        answers = seq.correct.tolist()\n",
    "        sequences.append((questions, answers))\n",
    "    return sequences\n",
    "\n",
    "# [(qustion_sequence_0, anser_sequence_0), ..., (qustion_sequence_n, anser_sequence_n)]\n",
    "sequences = parse_all_seq(data.user_id.unique())"
   ]
  },
  {
   "cell_type": "code",
   "execution_count": 5,
   "metadata": {},
   "outputs": [],
   "source": [
    "def train_test_split(data, train_size=.7, shuffle=True):\n",
    "    if shuffle:\n",
    "        random.shuffle(data)\n",
    "    boundary = round(len(data) * train_size)\n",
    "    return data[: boundary], data[boundary:]\n",
    "\n",
    "\n",
    "train_sequences, test_sequences = train_test_split(sequences)"
   ]
  },
  {
   "cell_type": "code",
   "execution_count": 6,
   "metadata": {},
   "outputs": [
    {
     "name": "stderr",
     "output_type": "stream",
     "text": [
      "write into file: 100%|██████████| 41912/41912 [00:00<00:00, 195340.14it/s]\n",
      "write into file: 100%|██████████| 17962/17962 [00:00<00:00, 189350.67it/s]\n"
     ]
    }
   ],
   "source": [
    "def sequences2tl(sequences, trgpath):\n",
    "    with open(trgpath, 'a', encoding='utf8') as f:\n",
    "        for seq in tqdm.tqdm(sequences, 'write into file: '):\n",
    "            questions, answers = seq\n",
    "            seq_len = len(questions)\n",
    "            f.write(str(seq_len) + '\\n')\n",
    "            f.write(','.join([str(q) for q in questions]) + '\\n')\n",
    "            f.write(','.join([str(a) for a in answers]) + '\\n')\n",
    "\n",
    "\n",
    "# save triple line format for other tasks\n",
    "sequences2tl(train_sequences, '../../data/2009_skill_builder_data_corrected/train.txt')\n",
    "sequences2tl(test_sequences, '../../data/2009_skill_builder_data_corrected/test.txt')"
   ]
  },
  {
   "cell_type": "code",
   "execution_count": 7,
   "metadata": {},
   "outputs": [
    {
     "name": "stderr",
     "output_type": "stream",
     "text": [
      "convert to onehot format: 100%|██████████| 209/209 [05:05<00:00,  1.46s/it]\n",
      "convert to onehot format: 100%|██████████| 89/89 [00:50<00:00,  1.78it/s]\n"
     ]
    }
   ],
   "source": [
    "MAX_STEP = 50\n",
    "NUM_QUESTIONS = 26688\n",
    "\n",
    "\n",
    "def encode_onehot(sequences, max_step, num_questions):\n",
    "    question_sequences = np.array([])\n",
    "    answer_sequences = np.array([])\n",
    "    onehot_result = []\n",
    "\n",
    "    for questions, answers in tqdm.tqdm(sequences, 'convert to onehot format: '):\n",
    "        length = len(questions)\n",
    "        # append questions' and answers' length to an integer multiple of max_step\n",
    "        mod = 0 if length % max_step == 0 else (max_step - length % max_step)\n",
    "        fill_content = np.zeros(mod) - 1\n",
    "        questions = np.append(questions, fill_content)\n",
    "        answers = np.append(answers, fill_content)\n",
    "        # onehot\n",
    "        q_seqs = questions.reshape([-1, max_step])\n",
    "        a_seqs = answers.reshape([-1, max_step])\n",
    "        for (i, q_seq) in enumerate(q_seqs):\n",
    "            onehot = np.zeros(shape = [max_step, 2 * num_questions])\n",
    "            for j in range(max_step):\n",
    "                index = int(q_seq[j] if a_seqs[i][j] > 0 else q_seq[j] + num_questions)\n",
    "                onehot[j][index] = 1\n",
    "            onehot_result = np.append(onehot_result, onehot)\n",
    "    \n",
    "    return onehot_result.reshape(-1, max_step, 2 * num_questions)\n",
    "\n",
    "\n",
    "# reduce the amount of data for example running faster\n",
    "percentage = 0.005\n",
    "train_data = encode_onehot(train_sequences[: int(len(train_sequences) * percentage)], MAX_STEP, NUM_QUESTIONS)\n",
    "test_data = encode_onehot(test_sequences[: int(len(test_sequences) * percentage)], MAX_STEP, NUM_QUESTIONS)"
   ]
  },
  {
   "cell_type": "code",
   "execution_count": 8,
   "metadata": {},
   "outputs": [],
   "source": [
    "# save onehot data\n",
    "np.save('../../data/2009_skill_builder_data_corrected/train_data.npy', train_data)\n",
    "np.save('../../data/2009_skill_builder_data_corrected/test_data.npy', test_data)"
   ]
  }
 ],
 "metadata": {
  "kernelspec": {
   "display_name": "Python 3",
   "language": "python",
   "name": "python3"
  },
  "language_info": {
   "codemirror_mode": {
    "name": "ipython",
    "version": 3
   },
   "file_extension": ".py",
   "mimetype": "text/x-python",
   "name": "python",
   "nbconvert_exporter": "python",
   "pygments_lexer": "ipython3",
   "version": "3.9.0"
  }
 },
 "nbformat": 4,
 "nbformat_minor": 1
}
